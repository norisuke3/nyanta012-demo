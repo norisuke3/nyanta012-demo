{
  "cells": [
    {
      "cell_type": "markdown",
      "metadata": {
        "id": "view-in-github",
        "colab_type": "text"
      },
      "source": [
        "<a href=\"https://colab.research.google.com/github/nyanta012/demo/blob/main/embedchain_v2.ipynb\" target=\"_parent\"><img src=\"https://colab.research.google.com/assets/colab-badge.svg\" alt=\"Open In Colab\"/></a>"
      ]
    },
    {
      "cell_type": "code",
      "execution_count": 1,
      "metadata": {
        "id": "j2OzcqhyE2MF"
      },
      "outputs": [],
      "source": [
        "%%capture\n",
        "!pip install embedchain==0.0.21\n",
        "!pip install openai==0.27.8"
      ]
    },
    {
      "cell_type": "markdown",
      "source": [
        "# APIKEY設定"
      ],
      "metadata": {
        "id": "kSOzHcoaFk2S"
      }
    },
    {
      "cell_type": "code",
      "source": [
        "import getpass\n",
        "import openai\n",
        "import os\n",
        "\n",
        "apikey = getpass.getpass(prompt = 'OpenAIのAPIキーを入力してください')\n",
        "openai.api_key = apikey\n",
        "os.environ[\"OPENAI_API_KEY\"] = apikey"
      ],
      "metadata": {
        "colab": {
          "base_uri": "https://localhost:8080/"
        },
        "id": "XWzc1r7RrMfA",
        "outputId": "18e75a7a-346c-4147-ebf8-6bd03355bb4a"
      },
      "execution_count": 2,
      "outputs": [
        {
          "name": "stdout",
          "output_type": "stream",
          "text": [
            "OpenAIのAPIキーを入力してください··········\n"
          ]
        }
      ]
    },
    {
      "cell_type": "code",
      "execution_count": 3,
      "metadata": {
        "id": "_vrURe6_Gbu5"
      },
      "outputs": [],
      "source": [
        "from embedchain import App\n",
        "chatbot = App()"
      ]
    },
    {
      "cell_type": "markdown",
      "source": [
        "YouTubeの設定"
      ],
      "metadata": {
        "id": "1oxQ04nzquub"
      }
    },
    {
      "cell_type": "code",
      "source": [
        "chatbot.add(\"youtube_video\", \"https://www.youtube.com/watch?v=1XsmaXwESsI&t=5s\")"
      ],
      "metadata": {
        "colab": {
          "base_uri": "https://localhost:8080/"
        },
        "id": "3qcGhz4TpZey",
        "outputId": "f404faae-ecf3-48ba-a734-497e439f2c3d"
      },
      "execution_count": 5,
      "outputs": [
        {
          "output_type": "stream",
          "name": "stdout",
          "text": [
            "Successfully saved https://www.youtube.com/watch?v=1XsmaXwESsI&t=5s. New chunks count: 4\n"
          ]
        }
      ]
    },
    {
      "cell_type": "markdown",
      "source": [
        "Webページの設定"
      ],
      "metadata": {
        "id": "G6P4pV1oqxm_"
      }
    },
    {
      "cell_type": "code",
      "source": [
        "chatbot.add('web_page', \"https://note.com/nyanta123/n/ncd9dae432356\")"
      ],
      "metadata": {
        "colab": {
          "base_uri": "https://localhost:8080/"
        },
        "id": "Q8joYCHbq0DG",
        "outputId": "c42a65bb-1239-4507-9799-26b0c4c5d22a"
      },
      "execution_count": 6,
      "outputs": [
        {
          "output_type": "stream",
          "name": "stdout",
          "text": [
            "Successfully saved https://note.com/nyanta123/n/ncd9dae432356. New chunks count: 10\n"
          ]
        }
      ]
    },
    {
      "cell_type": "markdown",
      "source": [
        "PDFの設定"
      ],
      "metadata": {
        "id": "5LSpO0f9q0MP"
      }
    },
    {
      "cell_type": "code",
      "source": [
        "chatbot.add(\"pdf_file\", \"http://www.nenkinsha-u.org/04-youkyuundou/pdf/kourousyou_roudou_hakusyo_gaiyo_h28.pdf\")"
      ],
      "metadata": {
        "colab": {
          "base_uri": "https://localhost:8080/"
        },
        "id": "au4OKrLsxx9_",
        "outputId": "b3c39e0d-dac3-4dcb-967e-cd66a51cd04e"
      },
      "execution_count": 7,
      "outputs": [
        {
          "output_type": "stream",
          "name": "stdout",
          "text": [
            "Successfully saved http://www.nenkinsha-u.org/04-youkyuundou/pdf/kourousyou_roudou_hakusyo_gaiyo_h28.pdf. New chunks count: 34\n"
          ]
        }
      ]
    },
    {
      "cell_type": "code",
      "source": [],
      "metadata": {
        "id": "TViRNiESwAnV"
      },
      "execution_count": 7,
      "outputs": []
    },
    {
      "cell_type": "code",
      "source": [],
      "metadata": {
        "id": "a9Lg1AcGwA-a"
      },
      "execution_count": 7,
      "outputs": []
    },
    {
      "cell_type": "code",
      "source": [],
      "metadata": {
        "id": "ckceYMZDwBRZ"
      },
      "execution_count": 7,
      "outputs": []
    },
    {
      "cell_type": "code",
      "source": [],
      "metadata": {
        "id": "-A6UqKbSq4tc"
      },
      "execution_count": 7,
      "outputs": []
    },
    {
      "cell_type": "markdown",
      "source": [
        "独自データの設定"
      ],
      "metadata": {
        "id": "m5PUhf-sq4yL"
      }
    },
    {
      "cell_type": "code",
      "source": [
        "chatbot.add_local(\n",
        "    \"qna_pair\",\n",
        "    (\"Youtuberのにゃんたはどのような方ですか？\", \"にゃんたは、AIの実践的な使い方を紹介しています。猫のキャラクターで発信しています。猫は飼っていません\"),\n",
        ")"
      ],
      "metadata": {
        "colab": {
          "base_uri": "https://localhost:8080/"
        },
        "id": "K5aECH7lxU5f",
        "outputId": "8e633205-3c58-4d4f-bbe2-5cb749988916"
      },
      "execution_count": 8,
      "outputs": [
        {
          "output_type": "stream",
          "name": "stdout",
          "text": [
            "Successfully saved ('Youtuberのにゃんたはどのような方ですか？', 'にゃんたは、AIの実践的な使い方を紹介しています。猫のキャラクターで発信しています。猫は飼っていません'). New chunks count: 1\n"
          ]
        }
      ]
    },
    {
      "cell_type": "code",
      "source": [],
      "metadata": {
        "id": "armqcJBw0QTe"
      },
      "execution_count": 8,
      "outputs": []
    },
    {
      "cell_type": "code",
      "source": [],
      "metadata": {
        "id": "onjwOs350QXC"
      },
      "execution_count": 8,
      "outputs": []
    },
    {
      "cell_type": "markdown",
      "source": [
        "Q&Aのやり方"
      ],
      "metadata": {
        "id": "CQ9-zmhAybxU"
      }
    },
    {
      "cell_type": "code",
      "source": [
        "chatbot.query(\"reazons speechについて教えてください\")"
      ],
      "metadata": {
        "colab": {
          "base_uri": "https://localhost:8080/",
          "height": 90
        },
        "id": "LeG1ncNtyvuk",
        "outputId": "97d21c4a-f02e-428a-f2c6-2c3bb96562f9"
      },
      "execution_count": 9,
      "outputs": [
        {
          "output_type": "execute_result",
          "data": {
            "text/plain": [
              "'ReazonSpeechは、株式会社レアゾン・ホールディングスが開発した音声認識に関するモデルやデータの総称です。具体的には、音声をテキストに変換するAIであり、文字起こしや字幕作成などに使用されます。ReazonSpeechの音声認識モデルは、日本語に特化しており、ワンセグ放送の録画データから学習された19,000時間のデータを使用しています。このモデルは、商用利用可能で無償で提供されており、Googleコラボなどで簡単に文字起こしを試すことができます。また、ReazonSpeechの音声認識モデルは、日本語に特化したモデルとしては世界最高精度を持っています。'"
            ],
            "application/vnd.google.colaboratory.intrinsic+json": {
              "type": "string"
            }
          },
          "metadata": {},
          "execution_count": 9
        }
      ]
    },
    {
      "cell_type": "code",
      "source": [
        "chatbot.query(\"高齢化社会で何をするべきですか？\")"
      ],
      "metadata": {
        "colab": {
          "base_uri": "https://localhost:8080/",
          "height": 72
        },
        "id": "rZi0sCA1ywf8",
        "outputId": "1a47d8c1-da94-43d3-fe85-da02c15081fb"
      },
      "execution_count": 10,
      "outputs": [
        {
          "output_type": "execute_result",
          "data": {
            "text/plain": [
              "'高齢化社会で何をするべきかは、地域包括ケアシステムの構築が重要です。これには、住み慣れた地域で自分らしい暮らしを継続できる施策の提供や、介護予防・生活支援サービスの充実が含まれます。また、医療・介護だけでなく福祉を含めた様々なサービスが適切に提供される地域の体制を整える必要があります。具体的な条件や取り組みについては、資料に詳細が記載されているかもしれませんが、提供されている情報ではわかりません。'"
            ],
            "application/vnd.google.colaboratory.intrinsic+json": {
              "type": "string"
            }
          },
          "metadata": {},
          "execution_count": 10
        }
      ]
    },
    {
      "cell_type": "code",
      "source": [],
      "metadata": {
        "id": "PNzEpzaMrJdr"
      },
      "execution_count": 10,
      "outputs": []
    },
    {
      "cell_type": "code",
      "source": [],
      "metadata": {
        "id": "4bw3_ZPAw29U"
      },
      "execution_count": 10,
      "outputs": []
    }
  ],
  "metadata": {
    "colab": {
      "provenance": [],
      "authorship_tag": "ABX9TyPhWJXyiQIpLc2KEQ/Agvlr",
      "include_colab_link": true
    },
    "kernelspec": {
      "display_name": "Python 3",
      "name": "python3"
    },
    "language_info": {
      "name": "python"
    }
  },
  "nbformat": 4,
  "nbformat_minor": 0
}