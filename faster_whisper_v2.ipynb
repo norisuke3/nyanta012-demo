{
  "nbformat": 4,
  "nbformat_minor": 0,
  "metadata": {
    "colab": {
      "provenance": [],
      "authorship_tag": "ABX9TyNppidnuPvimvzA6Mj2Wnlb",
      "include_colab_link": true
    },
    "kernelspec": {
      "name": "python3",
      "display_name": "Python 3"
    },
    "language_info": {
      "name": "python"
    },
    "accelerator": "GPU",
    "gpuClass": "standard"
  },
  "cells": [
    {
      "cell_type": "markdown",
      "metadata": {
        "id": "view-in-github",
        "colab_type": "text"
      },
      "source": [
        "<a href=\"https://colab.research.google.com/github/nyanta012/demo/blob/main/faster_whisper_v2.ipynb\" target=\"_parent\"><img src=\"https://colab.research.google.com/assets/colab-badge.svg\" alt=\"Open In Colab\"/></a>"
      ]
    },
    {
      "cell_type": "code",
      "source": [
        "# ランタイム⇒ランタイムのタイプの変更でGPUをオンにする必要があります"
      ],
      "metadata": {
        "id": "xTOLpOGHqSeR"
      },
      "execution_count": null,
      "outputs": []
    },
    {
      "cell_type": "code",
      "execution_count": null,
      "metadata": {
        "colab": {
          "base_uri": "https://localhost:8080/"
        },
        "id": "IDuFOzjNn1Lf",
        "outputId": "4eb40705-c409-4e18-e7e2-6dec72cb02c7"
      },
      "outputs": [
        {
          "output_type": "stream",
          "name": "stdout",
          "text": [
            "Looking in indexes: https://pypi.org/simple, https://us-python.pkg.dev/colab-wheels/public/simple/\n",
            "Collecting faster-whisper@ https://github.com/nyanta012/faster-whisper/archive/refs/heads/master.tar.gz\n",
            "  Downloading https://github.com/nyanta012/faster-whisper/archive/refs/heads/master.tar.gz\n",
            "\u001b[2K     \u001b[32m-\u001b[0m \u001b[32m13.5 kB\u001b[0m \u001b[31m87.8 MB/s\u001b[0m \u001b[33m0:00:00\u001b[0m\n",
            "\u001b[?25h  Preparing metadata (setup.py) ... \u001b[?25l\u001b[?25hdone\n",
            "Collecting av==10.*\n",
            "  Downloading av-10.0.0-cp39-cp39-manylinux_2_17_x86_64.manylinux2014_x86_64.whl (31.2 MB)\n",
            "\u001b[2K     \u001b[90m━━━━━━━━━━━━━━━━━━━━━━━━━━━━━━━━━━━━━━━━\u001b[0m \u001b[32m31.2/31.2 MB\u001b[0m \u001b[31m40.3 MB/s\u001b[0m eta \u001b[36m0:00:00\u001b[0m\n",
            "\u001b[?25hCollecting ctranslate2<4,>=3.9\n",
            "  Downloading ctranslate2-3.9.1-cp39-cp39-manylinux_2_17_x86_64.manylinux2014_x86_64.whl (31.4 MB)\n",
            "\u001b[2K     \u001b[90m━━━━━━━━━━━━━━━━━━━━━━━━━━━━━━━━━━━━━━━━\u001b[0m \u001b[32m31.4/31.4 MB\u001b[0m \u001b[31m10.1 MB/s\u001b[0m eta \u001b[36m0:00:00\u001b[0m\n",
            "\u001b[?25hCollecting tokenizers==0.13.*\n",
            "  Downloading tokenizers-0.13.2-cp39-cp39-manylinux_2_17_x86_64.manylinux2014_x86_64.whl (7.6 MB)\n",
            "\u001b[2K     \u001b[90m━━━━━━━━━━━━━━━━━━━━━━━━━━━━━━━━━━━━━━━━\u001b[0m \u001b[32m7.6/7.6 MB\u001b[0m \u001b[31m86.4 MB/s\u001b[0m eta \u001b[36m0:00:00\u001b[0m\n",
            "\u001b[?25hRequirement already satisfied: numpy in /usr/local/lib/python3.9/dist-packages (from ctranslate2<4,>=3.9->faster-whisper@ https://github.com/nyanta012/faster-whisper/archive/refs/heads/master.tar.gz) (1.22.4)\n",
            "Requirement already satisfied: pyyaml<7,>=5.3 in /usr/local/lib/python3.9/dist-packages (from ctranslate2<4,>=3.9->faster-whisper@ https://github.com/nyanta012/faster-whisper/archive/refs/heads/master.tar.gz) (6.0)\n",
            "Building wheels for collected packages: faster-whisper\n",
            "  Building wheel for faster-whisper (setup.py) ... \u001b[?25l\u001b[?25hdone\n",
            "  Created wheel for faster-whisper: filename=faster_whisper-0.1.0-py3-none-any.whl size=13988 sha256=6eff376bdda7a2af96d9048b20512c48abf1fce528d24e55d9f85d60b63ae820\n",
            "  Stored in directory: /tmp/pip-ephem-wheel-cache-dqoppaq2/wheels/e7/6c/49/8cf262ab990e0f9835ae16806f9138d17376028f08132ec7b9\n",
            "Successfully built faster-whisper\n",
            "Installing collected packages: tokenizers, av, ctranslate2, faster-whisper\n",
            "Successfully installed av-10.0.0 ctranslate2-3.9.1 faster-whisper-0.1.0 tokenizers-0.13.2\n",
            "Looking in indexes: https://pypi.org/simple, https://us-python.pkg.dev/colab-wheels/public/simple/\n",
            "Collecting transformers==4.27.2\n",
            "  Downloading transformers-4.27.2-py3-none-any.whl (6.8 MB)\n",
            "\u001b[2K     \u001b[90m━━━━━━━━━━━━━━━━━━━━━━━━━━━━━━━━━━━━━━━━\u001b[0m \u001b[32m6.8/6.8 MB\u001b[0m \u001b[31m70.4 MB/s\u001b[0m eta \u001b[36m0:00:00\u001b[0m\n",
            "\u001b[?25hRequirement already satisfied: numpy>=1.17 in /usr/local/lib/python3.9/dist-packages (from transformers==4.27.2) (1.22.4)\n",
            "Requirement already satisfied: packaging>=20.0 in /usr/local/lib/python3.9/dist-packages (from transformers==4.27.2) (23.0)\n",
            "Requirement already satisfied: filelock in /usr/local/lib/python3.9/dist-packages (from transformers==4.27.2) (3.10.0)\n",
            "Requirement already satisfied: pyyaml>=5.1 in /usr/local/lib/python3.9/dist-packages (from transformers==4.27.2) (6.0)\n",
            "Requirement already satisfied: tokenizers!=0.11.3,<0.14,>=0.11.1 in /usr/local/lib/python3.9/dist-packages (from transformers==4.27.2) (0.13.2)\n",
            "Collecting huggingface-hub<1.0,>=0.11.0\n",
            "  Downloading huggingface_hub-0.13.3-py3-none-any.whl (199 kB)\n",
            "\u001b[2K     \u001b[90m━━━━━━━━━━━━━━━━━━━━━━━━━━━━━━━━━━━━━━\u001b[0m \u001b[32m199.8/199.8 KB\u001b[0m \u001b[31m27.2 MB/s\u001b[0m eta \u001b[36m0:00:00\u001b[0m\n",
            "\u001b[?25hRequirement already satisfied: requests in /usr/local/lib/python3.9/dist-packages (from transformers==4.27.2) (2.27.1)\n",
            "Requirement already satisfied: regex!=2019.12.17 in /usr/local/lib/python3.9/dist-packages (from transformers==4.27.2) (2022.10.31)\n",
            "Requirement already satisfied: tqdm>=4.27 in /usr/local/lib/python3.9/dist-packages (from transformers==4.27.2) (4.65.0)\n",
            "Requirement already satisfied: typing-extensions>=3.7.4.3 in /usr/local/lib/python3.9/dist-packages (from huggingface-hub<1.0,>=0.11.0->transformers==4.27.2) (4.5.0)\n",
            "Requirement already satisfied: charset-normalizer~=2.0.0 in /usr/local/lib/python3.9/dist-packages (from requests->transformers==4.27.2) (2.0.12)\n",
            "Requirement already satisfied: certifi>=2017.4.17 in /usr/local/lib/python3.9/dist-packages (from requests->transformers==4.27.2) (2022.12.7)\n",
            "Requirement already satisfied: urllib3<1.27,>=1.21.1 in /usr/local/lib/python3.9/dist-packages (from requests->transformers==4.27.2) (1.26.15)\n",
            "Requirement already satisfied: idna<4,>=2.5 in /usr/local/lib/python3.9/dist-packages (from requests->transformers==4.27.2) (3.4)\n",
            "Installing collected packages: huggingface-hub, transformers\n",
            "Successfully installed huggingface-hub-0.13.3 transformers-4.27.2\n"
          ]
        }
      ],
      "source": [
        "!pip install \"faster-whisper @ https://github.com/nyanta012/faster-whisper/archive/refs/heads/master.tar.gz\"\n",
        "!pip install transformers==4.27.2"
      ]
    },
    {
      "cell_type": "code",
      "source": [
        "# srt file を作成するための関数\n",
        "def create_srt_file(file_name=\"transcribe\", results=None, fast_whisper=True):\n",
        "    with open(f\"{file_name}.srt\", mode=\"w\") as f:\n",
        "        for index, _dict in enumerate(results):\n",
        "            if fast_whisper:\n",
        "              start_time = _dict[0] # start\n",
        "              end_time = _dict[1] # end\n",
        "              text = _dict[2] # text\n",
        "            else:\n",
        "              start_time = _dict[\"start\"]\n",
        "              end_time = _dict[\"end\"]\n",
        "              text = _dict[\"text\"]\n",
        "            s_h, e_h = int(start_time//(60 * 60)), int(end_time//(60 * 60))\n",
        "            s_m, e_m = int(start_time//(60)), int(end_time//(60))\n",
        "            s_s, e_s = int(start_time % 60), int(end_time % 60)\n",
        "            f.write(f'{index+1}\\n{s_h:02}:{s_m:02}:{s_s:02},000 --> {e_h:02}:{e_m:02}:{e_s:02},000\\n{text}\\n\\n')"
      ],
      "metadata": {
        "id": "dvnpRJL5oGMW"
      },
      "execution_count": 4,
      "outputs": []
    },
    {
      "cell_type": "code",
      "source": [
        "# アップロード後、下記を実行することで、ファイル名を取得\n",
        "import os\n",
        "os.listdir(\".\")"
      ],
      "metadata": {
        "colab": {
          "base_uri": "https://localhost:8080/"
        },
        "id": "7cX3jh-QoPtQ",
        "outputId": "3658092f-3e06-415b-ab9e-917271370700"
      },
      "execution_count": null,
      "outputs": [
        {
          "output_type": "execute_result",
          "data": {
            "text/plain": [
              "['.config', 'sample_data']"
            ]
          },
          "metadata": {},
          "execution_count": 4
        }
      ]
    },
    {
      "cell_type": "code",
      "source": [
        "# アップロードしたファイル名を設定(拡張子まで含める)\n",
        "file_name = \"サンプル動画.mkv\""
      ],
      "metadata": {
        "id": "n2cNeByMof2m"
      },
      "execution_count": 18,
      "outputs": []
    },
    {
      "cell_type": "markdown",
      "source": [
        "下記はFaster Whisperを使用する場合"
      ],
      "metadata": {
        "id": "ICqWvT9XpMbv"
      }
    },
    {
      "cell_type": "code",
      "source": [
        "# whisper large-v2をhugging faceから取得して、ctranslate2でC++に変換&パラメータなどの量子化する\n",
        "from faster_whisper import WhisperModel\n",
        "!ct2-transformers-converter --model openai/whisper-large-v2 --output_dir whisper-large-v2-ct2 \\\n",
        "    --copy_files tokenizer.json --quantization float16\n",
        "\n",
        "model_path = \"whisper-large-v2-ct2/\""
      ],
      "metadata": {
        "colab": {
          "base_uri": "https://localhost:8080/"
        },
        "id": "QsVOpmQ4oP3U",
        "outputId": "a54a5f8b-30b7-46b5-c51f-afc3ae08b7f6"
      },
      "execution_count": null,
      "outputs": [
        {
          "output_type": "stream",
          "name": "stdout",
          "text": [
            "Downloading (…)lve/main/config.json: 100% 1.97k/1.97k [00:00<00:00, 304kB/s]\n",
            "Downloading pytorch_model.bin: 100% 6.17G/6.17G [00:40<00:00, 153MB/s] \n",
            "Downloading (…)neration_config.json: 100% 3.49k/3.49k [00:00<00:00, 550kB/s]\n",
            "Downloading (…)okenizer_config.json: 100% 800/800 [00:00<00:00, 254kB/s]\n",
            "Downloading (…)olve/main/vocab.json: 100% 836k/836k [00:01<00:00, 746kB/s]\n",
            "Downloading (…)/main/tokenizer.json: 100% 2.20M/2.20M [00:01<00:00, 1.64MB/s]\n",
            "Downloading (…)olve/main/merges.txt: 100% 494k/494k [00:00<00:00, 551kB/s]\n",
            "Downloading (…)main/normalizer.json: 100% 52.7k/52.7k [00:00<00:00, 236kB/s]\n",
            "Downloading (…)in/added_tokens.json: 100% 2.08k/2.08k [00:00<00:00, 759kB/s]\n",
            "Downloading (…)cial_tokens_map.json: 100% 2.08k/2.08k [00:00<00:00, 751kB/s]\n"
          ]
        }
      ]
    },
    {
      "cell_type": "code",
      "source": [
        "# Run on GPU with FP16\n",
        "model = WhisperModel(model_path, device=\"cuda\", compute_type=\"float16\")"
      ],
      "metadata": {
        "id": "LUM4D-hdoctf"
      },
      "execution_count": null,
      "outputs": []
    },
    {
      "cell_type": "code",
      "source": [
        "%%time\n",
        "results, _ = model.transcribe(file_name,\n",
        "                              language=\"ja\")"
      ],
      "metadata": {
        "colab": {
          "base_uri": "https://localhost:8080/"
        },
        "id": "n0TnRNpduN1s",
        "outputId": "a3b186b9-da25-45cc-b6ef-9a3b95ea53d2"
      },
      "execution_count": null,
      "outputs": [
        {
          "output_type": "stream",
          "name": "stdout",
          "text": [
            "CPU times: user 144 ms, sys: 20.3 ms, total: 165 ms\n",
            "Wall time: 442 ms\n"
          ]
        }
      ]
    },
    {
      "cell_type": "code",
      "source": [
        "create_srt_file(file_name=\"transcribe_faster_whisper\", results=results, fast_whisper=True)"
      ],
      "metadata": {
        "id": "zaewo2RKoc8u"
      },
      "execution_count": null,
      "outputs": []
    },
    {
      "cell_type": "code",
      "source": [],
      "metadata": {
        "id": "thEKhpM7rVnZ"
      },
      "execution_count": null,
      "outputs": []
    },
    {
      "cell_type": "code",
      "source": [],
      "metadata": {
        "id": "HKaSw7FXo8id"
      },
      "execution_count": null,
      "outputs": []
    },
    {
      "cell_type": "markdown",
      "source": [
        "下記は本家whisperのlarge-v2を使用する場合"
      ],
      "metadata": {
        "id": "JaZLmuoqo4Aa"
      }
    },
    {
      "cell_type": "code",
      "source": [
        "# 本家whisperのlarge-v2を使用する場合"
      ],
      "metadata": {
        "id": "7W779g15onh2"
      },
      "execution_count": 1,
      "outputs": []
    },
    {
      "cell_type": "code",
      "source": [
        "!pip install git+https://github.com/nyanta012/whisper_v2.git@adjust_segment"
      ],
      "metadata": {
        "colab": {
          "base_uri": "https://localhost:8080/"
        },
        "id": "CWYICWpFd7RT",
        "outputId": "eeb9a613-8e33-410e-8436-44f376905c88"
      },
      "execution_count": 1,
      "outputs": [
        {
          "output_type": "stream",
          "name": "stdout",
          "text": [
            "Looking in indexes: https://pypi.org/simple, https://us-python.pkg.dev/colab-wheels/public/simple/\n",
            "Collecting git+https://github.com/nyanta012/whisper_v2.git@adjust_segment\n",
            "  Cloning https://github.com/nyanta012/whisper_v2.git (to revision adjust_segment) to /tmp/pip-req-build-dgxrcgh8\n",
            "  Running command git clone --filter=blob:none --quiet https://github.com/nyanta012/whisper_v2.git /tmp/pip-req-build-dgxrcgh8\n",
            "  Running command git checkout -b adjust_segment --track origin/adjust_segment\n",
            "  Switched to a new branch 'adjust_segment'\n",
            "  Branch 'adjust_segment' set up to track remote branch 'adjust_segment' from 'origin'.\n",
            "  Resolved https://github.com/nyanta012/whisper_v2.git to commit 6abd9e5ac8d70db044222bb7f719b2b77cdbf732\n",
            "  Installing build dependencies ... \u001b[?25l\u001b[?25hdone\n",
            "  Getting requirements to build wheel ... \u001b[?25l\u001b[?25hdone\n",
            "  Preparing metadata (pyproject.toml) ... \u001b[?25l\u001b[?25hdone\n",
            "Requirement already satisfied: torch in /usr/local/lib/python3.9/dist-packages (from openai-whisper==20230314) (1.13.1+cu116)\n",
            "Requirement already satisfied: numpy in /usr/local/lib/python3.9/dist-packages (from openai-whisper==20230314) (1.22.4)\n",
            "Collecting triton==2.0.0\n",
            "  Downloading triton-2.0.0-1-cp39-cp39-manylinux2014_x86_64.manylinux_2_17_x86_64.whl (63.3 MB)\n",
            "\u001b[2K     \u001b[90m━━━━━━━━━━━━━━━━━━━━━━━━━━━━━━━━━━━━━━━━\u001b[0m \u001b[32m63.3/63.3 MB\u001b[0m \u001b[31m10.8 MB/s\u001b[0m eta \u001b[36m0:00:00\u001b[0m\n",
            "\u001b[?25hCollecting tiktoken==0.3.1\n",
            "  Downloading tiktoken-0.3.1-cp39-cp39-manylinux_2_17_x86_64.manylinux2014_x86_64.whl (1.7 MB)\n",
            "\u001b[2K     \u001b[90m━━━━━━━━━━━━━━━━━━━━━━━━━━━━━━━━━━━━━━━━\u001b[0m \u001b[32m1.7/1.7 MB\u001b[0m \u001b[31m57.7 MB/s\u001b[0m eta \u001b[36m0:00:00\u001b[0m\n",
            "\u001b[?25hRequirement already satisfied: tqdm in /usr/local/lib/python3.9/dist-packages (from openai-whisper==20230314) (4.65.0)\n",
            "Requirement already satisfied: more-itertools in /usr/local/lib/python3.9/dist-packages (from openai-whisper==20230314) (9.1.0)\n",
            "Requirement already satisfied: numba in /usr/local/lib/python3.9/dist-packages (from openai-whisper==20230314) (0.56.4)\n",
            "Collecting ffmpeg-python==0.2.0\n",
            "  Downloading ffmpeg_python-0.2.0-py3-none-any.whl (25 kB)\n",
            "Requirement already satisfied: future in /usr/local/lib/python3.9/dist-packages (from ffmpeg-python==0.2.0->openai-whisper==20230314) (0.18.3)\n",
            "Requirement already satisfied: regex>=2022.1.18 in /usr/local/lib/python3.9/dist-packages (from tiktoken==0.3.1->openai-whisper==20230314) (2022.10.31)\n",
            "Requirement already satisfied: requests>=2.26.0 in /usr/local/lib/python3.9/dist-packages (from tiktoken==0.3.1->openai-whisper==20230314) (2.27.1)\n",
            "Collecting lit\n",
            "  Downloading lit-16.0.0.tar.gz (144 kB)\n",
            "\u001b[2K     \u001b[90m━━━━━━━━━━━━━━━━━━━━━━━━━━━━━━━━━━━━━━\u001b[0m \u001b[32m145.0/145.0 KB\u001b[0m \u001b[31m15.0 MB/s\u001b[0m eta \u001b[36m0:00:00\u001b[0m\n",
            "\u001b[?25h  Preparing metadata (setup.py) ... \u001b[?25l\u001b[?25hdone\n",
            "Requirement already satisfied: filelock in /usr/local/lib/python3.9/dist-packages (from triton==2.0.0->openai-whisper==20230314) (3.10.0)\n",
            "Requirement already satisfied: cmake in /usr/local/lib/python3.9/dist-packages (from triton==2.0.0->openai-whisper==20230314) (3.25.2)\n",
            "Requirement already satisfied: llvmlite<0.40,>=0.39.0dev0 in /usr/local/lib/python3.9/dist-packages (from numba->openai-whisper==20230314) (0.39.1)\n",
            "Requirement already satisfied: setuptools in /usr/local/lib/python3.9/dist-packages (from numba->openai-whisper==20230314) (67.6.0)\n",
            "Requirement already satisfied: typing-extensions in /usr/local/lib/python3.9/dist-packages (from torch->openai-whisper==20230314) (4.5.0)\n",
            "Requirement already satisfied: certifi>=2017.4.17 in /usr/local/lib/python3.9/dist-packages (from requests>=2.26.0->tiktoken==0.3.1->openai-whisper==20230314) (2022.12.7)\n",
            "Requirement already satisfied: idna<4,>=2.5 in /usr/local/lib/python3.9/dist-packages (from requests>=2.26.0->tiktoken==0.3.1->openai-whisper==20230314) (3.4)\n",
            "Requirement already satisfied: urllib3<1.27,>=1.21.1 in /usr/local/lib/python3.9/dist-packages (from requests>=2.26.0->tiktoken==0.3.1->openai-whisper==20230314) (1.26.15)\n",
            "Requirement already satisfied: charset-normalizer~=2.0.0 in /usr/local/lib/python3.9/dist-packages (from requests>=2.26.0->tiktoken==0.3.1->openai-whisper==20230314) (2.0.12)\n",
            "Building wheels for collected packages: openai-whisper, lit\n",
            "  Building wheel for openai-whisper (pyproject.toml) ... \u001b[?25l\u001b[?25hdone\n",
            "  Created wheel for openai-whisper: filename=openai_whisper-20230314-py3-none-any.whl size=796969 sha256=2ab0370e235da3b575a3e828d980f985578df11d03b21435f8f40fd21ddc9387\n",
            "  Stored in directory: /tmp/pip-ephem-wheel-cache-exp3ex_n/wheels/46/1a/e4/3afc33b3db05448fa188489eed343275b989666f3c0096d7c1\n",
            "  Building wheel for lit (setup.py) ... \u001b[?25l\u001b[?25hdone\n",
            "  Created wheel for lit: filename=lit-16.0.0-py3-none-any.whl size=93601 sha256=7e65c6fa3f326f9191614bc0839b0873e787c787e7244f6492416d9ffbda1ac8\n",
            "  Stored in directory: /root/.cache/pip/wheels/c7/ee/80/1520ca86c3557f70e5504b802072f7fc3b0e2147f376b133ed\n",
            "Successfully built openai-whisper lit\n",
            "Installing collected packages: lit, ffmpeg-python, triton, tiktoken, openai-whisper\n",
            "Successfully installed ffmpeg-python-0.2.0 lit-16.0.0 openai-whisper-20230314 tiktoken-0.3.1 triton-2.0.0\n"
          ]
        }
      ]
    },
    {
      "cell_type": "code",
      "source": [
        "import whisper\n",
        "\n",
        "model = whisper.load_model(\"large-v2\")"
      ],
      "metadata": {
        "id": "Tu4QKHd4pA3Q",
        "colab": {
          "base_uri": "https://localhost:8080/"
        },
        "outputId": "9d785a3c-7806-4b92-940a-225e611ae316"
      },
      "execution_count": 2,
      "outputs": [
        {
          "output_type": "stream",
          "name": "stderr",
          "text": [
            "100%|██████████████████████████████████████| 2.87G/2.87G [00:25<00:00, 121MiB/s]\n"
          ]
        }
      ]
    },
    {
      "cell_type": "code",
      "source": [
        "%%time\n",
        "segments = model.transcribe(file_name, language=\"ja\", segment_length_ratio=1)"
      ],
      "metadata": {
        "colab": {
          "base_uri": "https://localhost:8080/"
        },
        "id": "0sFqVS7rpEbi",
        "outputId": "ae8aefc8-5251-45b5-a28b-179a0fcfdb7e"
      },
      "execution_count": 19,
      "outputs": [
        {
          "output_type": "stream",
          "name": "stdout",
          "text": [
            "CPU times: user 4.83 s, sys: 126 ms, total: 4.95 s\n",
            "Wall time: 5.16 s\n"
          ]
        }
      ]
    },
    {
      "cell_type": "code",
      "source": [
        "create_srt_file(file_name=\"transcribe_openai_whisper_ja\", results=segments[\"segments\"], fast_whisper=False)"
      ],
      "metadata": {
        "id": "KN0ZIItKrX2-"
      },
      "execution_count": 20,
      "outputs": []
    },
    {
      "cell_type": "code",
      "source": [],
      "metadata": {
        "id": "ylfjMurbLNGA"
      },
      "execution_count": null,
      "outputs": []
    },
    {
      "cell_type": "code",
      "source": [],
      "metadata": {
        "id": "h75Xu5TArkGA"
      },
      "execution_count": null,
      "outputs": []
    }
  ]
}