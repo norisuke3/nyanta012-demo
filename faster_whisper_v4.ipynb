{
  "nbformat": 4,
  "nbformat_minor": 0,
  "metadata": {
    "colab": {
      "provenance": [],
      "authorship_tag": "ABX9TyPPW0IqGoR/T9WXZkc/ecps",
      "include_colab_link": true
    },
    "kernelspec": {
      "name": "python3",
      "display_name": "Python 3"
    },
    "language_info": {
      "name": "python"
    },
    "accelerator": "GPU",
    "gpuClass": "standard"
  },
  "cells": [
    {
      "cell_type": "markdown",
      "metadata": {
        "id": "view-in-github",
        "colab_type": "text"
      },
      "source": [
        "<a href=\"https://colab.research.google.com/github/nyanta012/demo/blob/main/faster_whisper_v4.ipynb\" target=\"_parent\"><img src=\"https://colab.research.google.com/assets/colab-badge.svg\" alt=\"Open In Colab\"/></a>"
      ]
    },
    {
      "cell_type": "code",
      "source": [
        "# ランタイム⇒ランタイムのタイプの変更でGPUをオンにする必要があります"
      ],
      "metadata": {
        "id": "xTOLpOGHqSeR"
      },
      "execution_count": 9,
      "outputs": []
    },
    {
      "cell_type": "code",
      "execution_count": 10,
      "metadata": {
        "colab": {
          "base_uri": "https://localhost:8080/"
        },
        "id": "IDuFOzjNn1Lf",
        "outputId": "41dffc5e-11b6-4982-def7-848c4797bc1e"
      },
      "outputs": [
        {
          "output_type": "stream",
          "name": "stdout",
          "text": [
            "Looking in indexes: https://pypi.org/simple, https://us-python.pkg.dev/colab-wheels/public/simple/\n",
            "Collecting faster-whisper@ https://github.com/nyanta012/faster-whisper/archive/refs/heads/master.tar.gz\n",
            "  Using cached https://github.com/nyanta012/faster-whisper/archive/refs/heads/master.tar.gz (13 kB)\n",
            "  Preparing metadata (setup.py) ... \u001b[?25l\u001b[?25hdone\n",
            "Requirement already satisfied: av==10.* in /usr/local/lib/python3.9/dist-packages (from faster-whisper@ https://github.com/nyanta012/faster-whisper/archive/refs/heads/master.tar.gz) (10.0.0)\n",
            "Requirement already satisfied: ctranslate2<4,>=3.9 in /usr/local/lib/python3.9/dist-packages (from faster-whisper@ https://github.com/nyanta012/faster-whisper/archive/refs/heads/master.tar.gz) (3.10.1)\n",
            "Requirement already satisfied: tokenizers==0.13.* in /usr/local/lib/python3.9/dist-packages (from faster-whisper@ https://github.com/nyanta012/faster-whisper/archive/refs/heads/master.tar.gz) (0.13.2)\n",
            "Requirement already satisfied: numpy in /usr/local/lib/python3.9/dist-packages (from ctranslate2<4,>=3.9->faster-whisper@ https://github.com/nyanta012/faster-whisper/archive/refs/heads/master.tar.gz) (1.22.4)\n",
            "Requirement already satisfied: pyyaml<7,>=5.3 in /usr/local/lib/python3.9/dist-packages (from ctranslate2<4,>=3.9->faster-whisper@ https://github.com/nyanta012/faster-whisper/archive/refs/heads/master.tar.gz) (6.0)\n",
            "Looking in indexes: https://pypi.org/simple, https://us-python.pkg.dev/colab-wheels/public/simple/\n",
            "Requirement already satisfied: transformers==4.27.2 in /usr/local/lib/python3.9/dist-packages (4.27.2)\n",
            "Requirement already satisfied: pyyaml>=5.1 in /usr/local/lib/python3.9/dist-packages (from transformers==4.27.2) (6.0)\n",
            "Requirement already satisfied: regex!=2019.12.17 in /usr/local/lib/python3.9/dist-packages (from transformers==4.27.2) (2022.10.31)\n",
            "Requirement already satisfied: requests in /usr/local/lib/python3.9/dist-packages (from transformers==4.27.2) (2.27.1)\n",
            "Requirement already satisfied: tqdm>=4.27 in /usr/local/lib/python3.9/dist-packages (from transformers==4.27.2) (4.65.0)\n",
            "Requirement already satisfied: filelock in /usr/local/lib/python3.9/dist-packages (from transformers==4.27.2) (3.10.1)\n",
            "Requirement already satisfied: tokenizers!=0.11.3,<0.14,>=0.11.1 in /usr/local/lib/python3.9/dist-packages (from transformers==4.27.2) (0.13.2)\n",
            "Requirement already satisfied: packaging>=20.0 in /usr/local/lib/python3.9/dist-packages (from transformers==4.27.2) (23.0)\n",
            "Requirement already satisfied: numpy>=1.17 in /usr/local/lib/python3.9/dist-packages (from transformers==4.27.2) (1.22.4)\n",
            "Requirement already satisfied: huggingface-hub<1.0,>=0.11.0 in /usr/local/lib/python3.9/dist-packages (from transformers==4.27.2) (0.13.3)\n",
            "Requirement already satisfied: typing-extensions>=3.7.4.3 in /usr/local/lib/python3.9/dist-packages (from huggingface-hub<1.0,>=0.11.0->transformers==4.27.2) (4.5.0)\n",
            "Requirement already satisfied: idna<4,>=2.5 in /usr/local/lib/python3.9/dist-packages (from requests->transformers==4.27.2) (3.4)\n",
            "Requirement already satisfied: charset-normalizer~=2.0.0 in /usr/local/lib/python3.9/dist-packages (from requests->transformers==4.27.2) (2.0.12)\n",
            "Requirement already satisfied: urllib3<1.27,>=1.21.1 in /usr/local/lib/python3.9/dist-packages (from requests->transformers==4.27.2) (1.26.15)\n",
            "Requirement already satisfied: certifi>=2017.4.17 in /usr/local/lib/python3.9/dist-packages (from requests->transformers==4.27.2) (2022.12.7)\n"
          ]
        }
      ],
      "source": [
        "!pip install \"faster-whisper @ https://github.com/nyanta012/faster-whisper/archive/refs/heads/master.tar.gz\"\n",
        "!pip install transformers==4.27.2"
      ]
    },
    {
      "cell_type": "code",
      "source": [
        "# srt file を作成するための関数\n",
        "def create_file(file_name=\"transcribe\", results=None, fast_whisper=True, file_type=\"srt\"):\n",
        "    if not file_type in [\"srt\", \"txt\"]:\n",
        "        raise NotImplementedError(\"ファイル拡張子は[srt, txt]を選択してください。\")\n",
        "    with open(f\"{file_name}.{file_type}\", mode=\"w\") as f:\n",
        "        for index, _dict in enumerate(results):\n",
        "            if fast_whisper:\n",
        "                start_time = _dict[0] # start\n",
        "                end_time = _dict[1] # end\n",
        "                text = _dict[2] # text\n",
        "            else:\n",
        "                start_time = _dict[\"start\"]\n",
        "                end_time = _dict[\"end\"]\n",
        "                text = _dict[\"text\"]\n",
        "            s_h, e_h = int(start_time//(60 * 60)), int(end_time//(60 * 60))\n",
        "            s_m, e_m = int((start_time % (60 * 60))//60), int((end_time % (60 * 60))//60)\n",
        "            s_s, e_s = int(start_time % 60), int(end_time % 60)\n",
        "            if file_type==\"srt\":\n",
        "                f.write(f'{index+1}\\n{s_h:02}:{s_m:02}:{s_s:02},000 --> {e_h:02}:{e_m:02}:{e_s:02},000\\n{text}\\n\\n')\n",
        "            elif file_type==\"txt\":\n",
        "                f.write(f'[{s_h:02}:{s_m:02}:{s_s:02} ===> {e_h:02}:{e_m:02}:{e_s:02}] {text}\\n')"
      ],
      "metadata": {
        "id": "dvnpRJL5oGMW"
      },
      "execution_count": 23,
      "outputs": []
    },
    {
      "cell_type": "code",
      "source": [
        "# アップロード後、下記を実行することで、ファイル名を取得\n",
        "import os\n",
        "os.listdir(\".\")"
      ],
      "metadata": {
        "colab": {
          "base_uri": "https://localhost:8080/"
        },
        "id": "7cX3jh-QoPtQ",
        "outputId": "f0b6a875-a45a-4006-c3be-05d6d2bb10db"
      },
      "execution_count": 24,
      "outputs": [
        {
          "output_type": "execute_result",
          "data": {
            "text/plain": [
              "['.config',\n",
              " 'whisper-large-v2-ct2',\n",
              " 'transcribe_faster_whisper.txt',\n",
              " 'サンプル動画.mkv',\n",
              " 'transcribe_faster_whisper.srt',\n",
              " 'sample_data']"
            ]
          },
          "metadata": {},
          "execution_count": 24
        }
      ]
    },
    {
      "cell_type": "code",
      "source": [
        "# アップロードしたファイル名を設定(拡張子まで含める)\n",
        "file_name = \"サンプル動画.mkv\""
      ],
      "metadata": {
        "id": "n2cNeByMof2m"
      },
      "execution_count": 25,
      "outputs": []
    },
    {
      "cell_type": "markdown",
      "source": [
        "下記はFaster Whisperを使用する場合"
      ],
      "metadata": {
        "id": "ICqWvT9XpMbv"
      }
    },
    {
      "cell_type": "code",
      "source": [
        "# whisper large-v2をhugging faceから取得して、ctranslate2でC++に変換&パラメータなどの量子化する\n",
        "from faster_whisper import WhisperModel\n",
        "!ct2-transformers-converter --model openai/whisper-large-v2 --output_dir whisper-large-v2-ct2 \\\n",
        "    --copy_files tokenizer.json --quantization float16\n",
        "\n",
        "model_path = \"whisper-large-v2-ct2/\""
      ],
      "metadata": {
        "colab": {
          "base_uri": "https://localhost:8080/"
        },
        "id": "QsVOpmQ4oP3U",
        "outputId": "a54a5f8b-30b7-46b5-c51f-afc3ae08b7f6"
      },
      "execution_count": null,
      "outputs": [
        {
          "output_type": "stream",
          "name": "stdout",
          "text": [
            "Downloading (…)lve/main/config.json: 100% 1.97k/1.97k [00:00<00:00, 304kB/s]\n",
            "Downloading pytorch_model.bin: 100% 6.17G/6.17G [00:40<00:00, 153MB/s] \n",
            "Downloading (…)neration_config.json: 100% 3.49k/3.49k [00:00<00:00, 550kB/s]\n",
            "Downloading (…)okenizer_config.json: 100% 800/800 [00:00<00:00, 254kB/s]\n",
            "Downloading (…)olve/main/vocab.json: 100% 836k/836k [00:01<00:00, 746kB/s]\n",
            "Downloading (…)/main/tokenizer.json: 100% 2.20M/2.20M [00:01<00:00, 1.64MB/s]\n",
            "Downloading (…)olve/main/merges.txt: 100% 494k/494k [00:00<00:00, 551kB/s]\n",
            "Downloading (…)main/normalizer.json: 100% 52.7k/52.7k [00:00<00:00, 236kB/s]\n",
            "Downloading (…)in/added_tokens.json: 100% 2.08k/2.08k [00:00<00:00, 759kB/s]\n",
            "Downloading (…)cial_tokens_map.json: 100% 2.08k/2.08k [00:00<00:00, 751kB/s]\n"
          ]
        }
      ]
    },
    {
      "cell_type": "code",
      "source": [
        "# Run on GPU with FP16\n",
        "model = WhisperModel(model_path, device=\"cuda\", compute_type=\"float16\")"
      ],
      "metadata": {
        "id": "LUM4D-hdoctf"
      },
      "execution_count": 26,
      "outputs": []
    },
    {
      "cell_type": "code",
      "source": [
        "%%time\n",
        "results, _ = model.transcribe(file_name,\n",
        "                              language=\"ja\")"
      ],
      "metadata": {
        "colab": {
          "base_uri": "https://localhost:8080/"
        },
        "id": "n0TnRNpduN1s",
        "outputId": "837343b7-ec85-48c8-fcce-04f577f9e4ef"
      },
      "execution_count": 30,
      "outputs": [
        {
          "output_type": "stream",
          "name": "stdout",
          "text": [
            "CPU times: user 131 ms, sys: 10.2 ms, total: 141 ms\n",
            "Wall time: 131 ms\n"
          ]
        }
      ]
    },
    {
      "cell_type": "code",
      "source": [
        "create_file(file_name=\"transcribe_faster_whisper\", results=results, fast_whisper=True, file_type=\"srt\")"
      ],
      "metadata": {
        "id": "zaewo2RKoc8u"
      },
      "execution_count": 31,
      "outputs": []
    },
    {
      "cell_type": "code",
      "source": [],
      "metadata": {
        "id": "thEKhpM7rVnZ"
      },
      "execution_count": null,
      "outputs": []
    },
    {
      "cell_type": "code",
      "source": [],
      "metadata": {
        "id": "HKaSw7FXo8id"
      },
      "execution_count": null,
      "outputs": []
    },
    {
      "cell_type": "markdown",
      "source": [
        "下記は本家whisperのlarge-v2を使用する場合"
      ],
      "metadata": {
        "id": "JaZLmuoqo4Aa"
      }
    },
    {
      "cell_type": "code",
      "source": [
        "# 本家whisperのlarge-v2を使用する場合"
      ],
      "metadata": {
        "id": "7W779g15onh2"
      },
      "execution_count": 32,
      "outputs": []
    },
    {
      "cell_type": "code",
      "source": [
        "!pip install git+https://github.com/nyanta012/whisper_v2.git "
      ],
      "metadata": {
        "colab": {
          "base_uri": "https://localhost:8080/"
        },
        "id": "S6m7eBKRonpX",
        "outputId": "3f82f479-c42b-46d6-f793-5bc852e898ce"
      },
      "execution_count": 33,
      "outputs": [
        {
          "output_type": "stream",
          "name": "stdout",
          "text": [
            "Looking in indexes: https://pypi.org/simple, https://us-python.pkg.dev/colab-wheels/public/simple/\n",
            "Collecting git+https://github.com/nyanta012/whisper_v2.git\n",
            "  Cloning https://github.com/nyanta012/whisper_v2.git to /tmp/pip-req-build-0pnqwkt0\n",
            "  Running command git clone --filter=blob:none --quiet https://github.com/nyanta012/whisper_v2.git /tmp/pip-req-build-0pnqwkt0\n",
            "  Resolved https://github.com/nyanta012/whisper_v2.git to commit 6dea21fd7f7253bfe450f1e2512a0fe47ee2d258\n",
            "  Installing build dependencies ... \u001b[?25l\u001b[?25hdone\n",
            "  Getting requirements to build wheel ... \u001b[?25l\u001b[?25hdone\n",
            "  Preparing metadata (pyproject.toml) ... \u001b[?25l\u001b[?25hdone\n",
            "Requirement already satisfied: numpy in /usr/local/lib/python3.9/dist-packages (from openai-whisper==20230314) (1.22.4)\n",
            "Collecting ffmpeg-python==0.2.0\n",
            "  Downloading ffmpeg_python-0.2.0-py3-none-any.whl (25 kB)\n",
            "Collecting tiktoken==0.3.1\n",
            "  Downloading tiktoken-0.3.1-cp39-cp39-manylinux_2_17_x86_64.manylinux2014_x86_64.whl (1.7 MB)\n",
            "\u001b[2K     \u001b[90m━━━━━━━━━━━━━━━━━━━━━━━━━━━━━━━━━━━━━━━━\u001b[0m \u001b[32m1.7/1.7 MB\u001b[0m \u001b[31m69.9 MB/s\u001b[0m eta \u001b[36m0:00:00\u001b[0m\n",
            "\u001b[?25hRequirement already satisfied: more-itertools in /usr/local/lib/python3.9/dist-packages (from openai-whisper==20230314) (9.1.0)\n",
            "Requirement already satisfied: tqdm in /usr/local/lib/python3.9/dist-packages (from openai-whisper==20230314) (4.65.0)\n",
            "Collecting triton==2.0.0\n",
            "  Downloading triton-2.0.0-1-cp39-cp39-manylinux2014_x86_64.manylinux_2_17_x86_64.whl (63.3 MB)\n",
            "\u001b[2K     \u001b[90m━━━━━━━━━━━━━━━━━━━━━━━━━━━━━━━━━━━━━━━━\u001b[0m \u001b[32m63.3/63.3 MB\u001b[0m \u001b[31m13.4 MB/s\u001b[0m eta \u001b[36m0:00:00\u001b[0m\n",
            "\u001b[?25hRequirement already satisfied: torch in /usr/local/lib/python3.9/dist-packages (from openai-whisper==20230314) (1.13.1+cu116)\n",
            "Requirement already satisfied: numba in /usr/local/lib/python3.9/dist-packages (from openai-whisper==20230314) (0.56.4)\n",
            "Requirement already satisfied: future in /usr/local/lib/python3.9/dist-packages (from ffmpeg-python==0.2.0->openai-whisper==20230314) (0.18.3)\n",
            "Requirement already satisfied: requests>=2.26.0 in /usr/local/lib/python3.9/dist-packages (from tiktoken==0.3.1->openai-whisper==20230314) (2.27.1)\n",
            "Requirement already satisfied: regex>=2022.1.18 in /usr/local/lib/python3.9/dist-packages (from tiktoken==0.3.1->openai-whisper==20230314) (2022.10.31)\n",
            "Collecting lit\n",
            "  Downloading lit-16.0.0.tar.gz (144 kB)\n",
            "\u001b[2K     \u001b[90m━━━━━━━━━━━━━━━━━━━━━━━━━━━━━━━━━━━━━━\u001b[0m \u001b[32m145.0/145.0 KB\u001b[0m \u001b[31m19.0 MB/s\u001b[0m eta \u001b[36m0:00:00\u001b[0m\n",
            "\u001b[?25h  Preparing metadata (setup.py) ... \u001b[?25l\u001b[?25hdone\n",
            "Requirement already satisfied: filelock in /usr/local/lib/python3.9/dist-packages (from triton==2.0.0->openai-whisper==20230314) (3.10.1)\n",
            "Requirement already satisfied: cmake in /usr/local/lib/python3.9/dist-packages (from triton==2.0.0->openai-whisper==20230314) (3.25.2)\n",
            "Requirement already satisfied: llvmlite<0.40,>=0.39.0dev0 in /usr/local/lib/python3.9/dist-packages (from numba->openai-whisper==20230314) (0.39.1)\n",
            "Requirement already satisfied: setuptools in /usr/local/lib/python3.9/dist-packages (from numba->openai-whisper==20230314) (67.6.0)\n",
            "Requirement already satisfied: typing-extensions in /usr/local/lib/python3.9/dist-packages (from torch->openai-whisper==20230314) (4.5.0)\n",
            "Requirement already satisfied: charset-normalizer~=2.0.0 in /usr/local/lib/python3.9/dist-packages (from requests>=2.26.0->tiktoken==0.3.1->openai-whisper==20230314) (2.0.12)\n",
            "Requirement already satisfied: certifi>=2017.4.17 in /usr/local/lib/python3.9/dist-packages (from requests>=2.26.0->tiktoken==0.3.1->openai-whisper==20230314) (2022.12.7)\n",
            "Requirement already satisfied: urllib3<1.27,>=1.21.1 in /usr/local/lib/python3.9/dist-packages (from requests>=2.26.0->tiktoken==0.3.1->openai-whisper==20230314) (1.26.15)\n",
            "Requirement already satisfied: idna<4,>=2.5 in /usr/local/lib/python3.9/dist-packages (from requests>=2.26.0->tiktoken==0.3.1->openai-whisper==20230314) (3.4)\n",
            "Building wheels for collected packages: openai-whisper, lit\n",
            "  Building wheel for openai-whisper (pyproject.toml) ... \u001b[?25l\u001b[?25hdone\n",
            "  Created wheel for openai-whisper: filename=openai_whisper-20230314-py3-none-any.whl size=796926 sha256=ef0a4c96def6a356aa7563096051bba0bcdc30887ce2b2858c4edd30e8b2a75e\n",
            "  Stored in directory: /tmp/pip-ephem-wheel-cache-4oq1n07t/wheels/b5/62/1a/684d9e4e2d1f58793468e62cf4730a44aec9433b12a62eb4f8\n",
            "  Building wheel for lit (setup.py) ... \u001b[?25l\u001b[?25hdone\n",
            "  Created wheel for lit: filename=lit-16.0.0-py3-none-any.whl size=93601 sha256=e7e1b4150cae0ca3c91efe0612e2855ea9dcde4522347f1c6c2c426b2ccc00f5\n",
            "  Stored in directory: /root/.cache/pip/wheels/c7/ee/80/1520ca86c3557f70e5504b802072f7fc3b0e2147f376b133ed\n",
            "Successfully built openai-whisper lit\n",
            "Installing collected packages: lit, ffmpeg-python, triton, tiktoken, openai-whisper\n",
            "Successfully installed ffmpeg-python-0.2.0 lit-16.0.0 openai-whisper-20230314 tiktoken-0.3.1 triton-2.0.0\n"
          ]
        }
      ]
    },
    {
      "cell_type": "code",
      "source": [
        "import whisper\n",
        "\n",
        "model = whisper.load_model(\"large-v2\")"
      ],
      "metadata": {
        "id": "Tu4QKHd4pA3Q",
        "colab": {
          "base_uri": "https://localhost:8080/"
        },
        "outputId": "343d0d36-57fd-4c9b-a447-b42a394b4845"
      },
      "execution_count": 34,
      "outputs": [
        {
          "output_type": "stream",
          "name": "stderr",
          "text": [
            "100%|█████████████████████████████████████| 2.87G/2.87G [01:05<00:00, 47.2MiB/s]\n"
          ]
        }
      ]
    },
    {
      "cell_type": "code",
      "source": [
        "%%time\n",
        "segments = model.transcribe(file_name, language=\"en\")"
      ],
      "metadata": {
        "colab": {
          "base_uri": "https://localhost:8080/"
        },
        "id": "0sFqVS7rpEbi",
        "outputId": "8660645f-6aa8-485d-848b-f9b94fb4094b"
      },
      "execution_count": 37,
      "outputs": [
        {
          "output_type": "stream",
          "name": "stdout",
          "text": [
            "CPU times: user 3.47 s, sys: 137 ms, total: 3.6 s\n",
            "Wall time: 4.47 s\n"
          ]
        }
      ]
    },
    {
      "cell_type": "code",
      "source": [
        "create_file(file_name=\"transcribe_openai_whisper_en\", results=segments[\"segments\"], fast_whisper=False, file_type=\"srt\")"
      ],
      "metadata": {
        "id": "KN0ZIItKrX2-"
      },
      "execution_count": 40,
      "outputs": []
    },
    {
      "cell_type": "code",
      "source": [],
      "metadata": {
        "id": "ylfjMurbLNGA"
      },
      "execution_count": null,
      "outputs": []
    },
    {
      "cell_type": "code",
      "source": [],
      "metadata": {
        "id": "h75Xu5TArkGA"
      },
      "execution_count": null,
      "outputs": []
    }
  ]
}