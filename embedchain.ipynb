{
  "cells": [
    {
      "cell_type": "markdown",
      "metadata": {
        "id": "view-in-github",
        "colab_type": "text"
      },
      "source": [
        "<a href=\"https://colab.research.google.com/github/nyanta012/demo/blob/main/embedchain.ipynb\" target=\"_parent\"><img src=\"https://colab.research.google.com/assets/colab-badge.svg\" alt=\"Open In Colab\"/></a>"
      ]
    },
    {
      "cell_type": "code",
      "execution_count": 1,
      "metadata": {
        "id": "j2OzcqhyE2MF"
      },
      "outputs": [],
      "source": [
        "%%capture\n",
        "!pip install embedchain==0.0.10\n",
        "!pip install openai==0.27.8"
      ]
    },
    {
      "cell_type": "markdown",
      "source": [
        "# APIKEY設定"
      ],
      "metadata": {
        "id": "kSOzHcoaFk2S"
      }
    },
    {
      "cell_type": "code",
      "source": [
        "import getpass\n",
        "import openai\n",
        "import os\n",
        "\n",
        "apikey = getpass.getpass(prompt = 'OpenAIのAPIキーを入力してください')\n",
        "openai.api_key = apikey\n",
        "os.environ[\"OPENAI_API_KEY\"] = apikey"
      ],
      "metadata": {
        "colab": {
          "base_uri": "https://localhost:8080/"
        },
        "id": "XWzc1r7RrMfA",
        "outputId": "4b28080b-2787-46f8-8420-c7119f656151"
      },
      "execution_count": null,
      "outputs": [
        {
          "name": "stdout",
          "output_type": "stream",
          "text": [
            "OpenAIのAPIキーを入力してください··········\n"
          ]
        }
      ]
    },
    {
      "cell_type": "code",
      "execution_count": null,
      "metadata": {
        "id": "_vrURe6_Gbu5"
      },
      "outputs": [],
      "source": [
        "from embedchain import App\n",
        "chatbot = App()"
      ]
    },
    {
      "cell_type": "markdown",
      "source": [
        "YouTubeの設定"
      ],
      "metadata": {
        "id": "1oxQ04nzquub"
      }
    },
    {
      "cell_type": "code",
      "source": [
        "chatbot.add(\"youtube_video\", \"https://www.youtube.com/watch?v=1XsmaXwESsI&t=5s\")"
      ],
      "metadata": {
        "colab": {
          "base_uri": "https://localhost:8080/"
        },
        "id": "3qcGhz4TpZey",
        "outputId": "ce128048-20ed-4652-fc4b-d94fb5725586"
      },
      "execution_count": null,
      "outputs": [
        {
          "output_type": "stream",
          "name": "stdout",
          "text": [
            "Successfully saved https://www.youtube.com/watch?v=1XsmaXwESsI&t=5s. Total chunks count: 4\n"
          ]
        }
      ]
    },
    {
      "cell_type": "markdown",
      "source": [
        "Webページの設定"
      ],
      "metadata": {
        "id": "G6P4pV1oqxm_"
      }
    },
    {
      "cell_type": "code",
      "source": [
        "chatbot.add('web_page', \"https://note.com/nyanta123/n/ncd9dae432356\")"
      ],
      "metadata": {
        "colab": {
          "base_uri": "https://localhost:8080/"
        },
        "id": "Q8joYCHbq0DG",
        "outputId": "8e64218c-4c9b-4422-fcd4-649608ff51e4"
      },
      "execution_count": null,
      "outputs": [
        {
          "output_type": "stream",
          "name": "stdout",
          "text": [
            "Successfully saved https://note.com/nyanta123/n/ncd9dae432356. Total chunks count: 14\n"
          ]
        }
      ]
    },
    {
      "cell_type": "markdown",
      "source": [
        "PDFの設定"
      ],
      "metadata": {
        "id": "5LSpO0f9q0MP"
      }
    },
    {
      "cell_type": "code",
      "source": [
        "chatbot.add(\"pdf_file\", \"http://www.nenkinsha-u.org/04-youkyuundou/pdf/kourousyou_roudou_hakusyo_gaiyo_h28.pdf\")"
      ],
      "metadata": {
        "colab": {
          "base_uri": "https://localhost:8080/"
        },
        "id": "au4OKrLsxx9_",
        "outputId": "46e85bdf-5a8c-48b3-da8e-c3c92d79a755"
      },
      "execution_count": null,
      "outputs": [
        {
          "output_type": "stream",
          "name": "stdout",
          "text": [
            "Successfully saved http://www.nenkinsha-u.org/04-youkyuundou/pdf/kourousyou_roudou_hakusyo_gaiyo_h28.pdf. Total chunks count: 48\n"
          ]
        }
      ]
    },
    {
      "cell_type": "code",
      "source": [],
      "metadata": {
        "id": "TViRNiESwAnV"
      },
      "execution_count": null,
      "outputs": []
    },
    {
      "cell_type": "code",
      "source": [],
      "metadata": {
        "id": "a9Lg1AcGwA-a"
      },
      "execution_count": null,
      "outputs": []
    },
    {
      "cell_type": "code",
      "source": [],
      "metadata": {
        "id": "ckceYMZDwBRZ"
      },
      "execution_count": null,
      "outputs": []
    },
    {
      "cell_type": "code",
      "source": [],
      "metadata": {
        "id": "-A6UqKbSq4tc"
      },
      "execution_count": null,
      "outputs": []
    },
    {
      "cell_type": "markdown",
      "source": [
        "独自データの設定"
      ],
      "metadata": {
        "id": "m5PUhf-sq4yL"
      }
    },
    {
      "cell_type": "code",
      "source": [
        "chatbot.add_local(\n",
        "    \"qna_pair\",\n",
        "    (\"Youtuberのにゃんたはどのような方ですか？\", \"にゃんたは、AIの実践的な使い方を紹介しています。猫のキャラクターで発信しています。猫は飼っていません\"),\n",
        ")"
      ],
      "metadata": {
        "colab": {
          "base_uri": "https://localhost:8080/"
        },
        "id": "K5aECH7lxU5f",
        "outputId": "f557305e-12dd-4703-cb69-1388f8d4da5b"
      },
      "execution_count": null,
      "outputs": [
        {
          "output_type": "stream",
          "name": "stdout",
          "text": [
            "Successfully saved ('Youtuberのにゃんたはどのような方ですか？', 'にゃんたは、AIの実践的な使い方を紹介しています。猫のキャラクターで発信しています。猫は飼っていません'). Total chunks count: 49\n"
          ]
        }
      ]
    },
    {
      "cell_type": "code",
      "source": [],
      "metadata": {
        "id": "armqcJBw0QTe"
      },
      "execution_count": null,
      "outputs": []
    },
    {
      "cell_type": "code",
      "source": [],
      "metadata": {
        "id": "onjwOs350QXC"
      },
      "execution_count": null,
      "outputs": []
    },
    {
      "cell_type": "markdown",
      "source": [
        "Q&Aのやり方"
      ],
      "metadata": {
        "id": "CQ9-zmhAybxU"
      }
    },
    {
      "cell_type": "code",
      "source": [
        "chatbot.query(\"reazons speechについて教えてください\")"
      ],
      "metadata": {
        "colab": {
          "base_uri": "https://localhost:8080/",
          "height": 90
        },
        "id": "LeG1ncNtyvuk",
        "outputId": "5318abda-775a-406b-ac1c-519cf3363f7a"
      },
      "execution_count": null,
      "outputs": [
        {
          "output_type": "execute_result",
          "data": {
            "text/plain": [
              "'ReazonSpeechは、株式会社レアゾン・ホールディングスが開発した音声認識に関するモデルやデータの総称です。具体的には、音声をテキストに変換するAIであり、文字起こしや字幕作成などに使用されます。ReazonSpeechの音声認識モデルは、日本語に特化しており、ワンセグ放送の録画データから取得した19,000時間のデータを学習させたモデルです。このモデルは、商用利用可能で無償で提供されており、Googleコラボなどで簡単に文字起こしを試すことができます。また、ReazonSpeechの音声認識モデルは、日本語に特化したモデルとしては世界最高精度を持っています。'"
            ],
            "application/vnd.google.colaboratory.intrinsic+json": {
              "type": "string"
            }
          },
          "metadata": {},
          "execution_count": 10
        }
      ]
    },
    {
      "cell_type": "code",
      "source": [
        "chatbot.query(\"高齢化社会で何をするべきですか？\")"
      ],
      "metadata": {
        "colab": {
          "base_uri": "https://localhost:8080/",
          "height": 126
        },
        "id": "rZi0sCA1ywf8",
        "outputId": "3dfda19b-fd0c-4e5d-feb4-f71cc95e58cb"
      },
      "execution_count": null,
      "outputs": [
        {
          "output_type": "execute_result",
          "data": {
            "text/plain": [
              "'In order to address the challenges of an aging society, it is important to focus on creating a society where older individuals can age comfortably and maintain their independence. This can be achieved by implementing a comprehensive community care system that provides appropriate housing options and support services for daily living, including healthcare, caregiving, and welfare services. Additionally, there should be a shift towards a healthcare approach that not only focuses on curing diseases but also on supporting individuals in managing their conditions and maintaining their quality of life. It is also crucial to consider the changing demographics and social dynamics, such as the increase in individuals living alone or as couples without family support, and ensure that the necessary infrastructure and services are in place to support aging individuals in their familiar communities.'"
            ],
            "application/vnd.google.colaboratory.intrinsic+json": {
              "type": "string"
            }
          },
          "metadata": {},
          "execution_count": 11
        }
      ]
    },
    {
      "cell_type": "code",
      "source": [],
      "metadata": {
        "id": "PNzEpzaMrJdr"
      },
      "execution_count": null,
      "outputs": []
    },
    {
      "cell_type": "code",
      "source": [],
      "metadata": {
        "id": "4bw3_ZPAw29U"
      },
      "execution_count": null,
      "outputs": []
    },
    {
      "cell_type": "markdown",
      "source": [
        "# 機能を変えてみよう"
      ],
      "metadata": {
        "id": "14aG75Obw3FL"
      }
    },
    {
      "cell_type": "code",
      "execution_count": null,
      "metadata": {
        "id": "UgR_aK5U9p4H"
      },
      "outputs": [],
      "source": [
        "from embedchain.embedchain import EmbedChain"
      ]
    },
    {
      "cell_type": "code",
      "source": [
        "class App(EmbedChain):\n",
        "    def generate_prompt(self, input_query, context):\n",
        "        \"\"\"\n",
        "        Generates a prompt based on the given query and context, ready to be passed to an LLM\n",
        "\n",
        "        :param input_query: The query to use.\n",
        "        :param context: Similar documents to the query used as context.\n",
        "        :return: The prompt\n",
        "        \"\"\"\n",
        "        prompt = f\"\"\"下記のコンテキストを用いて質問に答えてください。わからない場合、答えを作らずわからないと答えてください。\n",
        "        {context}\n",
        "        質問: {input_query}\n",
        "        回答は日本語で書きます。\n",
        "        回答:\n",
        "        \"\"\"\n",
        "        return prompt"
      ],
      "metadata": {
        "id": "9DNnsUSQ2Xe2"
      },
      "execution_count": null,
      "outputs": []
    },
    {
      "cell_type": "code",
      "source": [
        "chatbot = App()"
      ],
      "metadata": {
        "id": "ATHeSU0_2YP2"
      },
      "execution_count": null,
      "outputs": []
    },
    {
      "cell_type": "code",
      "source": [
        "chatbot.add(\"pdf_file\", \"http://www.nenkinsha-u.org/04-youkyuundou/pdf/kourousyou_roudou_hakusyo_gaiyo_h28.pdf\")"
      ],
      "metadata": {
        "id": "500kHWBdWtz3",
        "colab": {
          "base_uri": "https://localhost:8080/"
        },
        "outputId": "01e80eb4-b1f6-4e09-c682-df1f03ae39ba"
      },
      "execution_count": null,
      "outputs": [
        {
          "output_type": "stream",
          "name": "stdout",
          "text": [
            "Successfully saved http://www.nenkinsha-u.org/04-youkyuundou/pdf/kourousyou_roudou_hakusyo_gaiyo_h28.pdf. Total chunks count: 34\n"
          ]
        }
      ]
    },
    {
      "cell_type": "code",
      "execution_count": null,
      "metadata": {
        "id": "J7uF3d3bLUc1",
        "colab": {
          "base_uri": "https://localhost:8080/"
        },
        "outputId": "977e65f4-f27c-4e04-d9bc-ae78b1d7ed8e"
      },
      "outputs": [
        {
          "output_type": "stream",
          "name": "stdout",
          "text": [
            "高齢化社会では、住み慣れた地域で自分らしい生活を継続できるような施策やサービスを提供する必要があります。具体的には、ニーズに応じた住まいの提供や介護予防・生活支援サービスの充実、医療・介護・福祉を含めた様々なサービスが適切に提供される地域包括ケアシステムの構築が求められています。高齢者が可能な限り自立した生活を営むことができるよう、医療や介護、介護予防、住まい、自立した日常生活の支援が包括的に確保される体制を整える必要があります。\n"
          ]
        }
      ],
      "source": [
        "print(chatbot.query(\"高齢化社会で何をするべきですか？\"))"
      ]
    },
    {
      "cell_type": "code",
      "execution_count": null,
      "metadata": {
        "id": "jFhQTxN_Sh9q"
      },
      "outputs": [],
      "source": []
    },
    {
      "cell_type": "code",
      "source": [
        "chatbot.add_local(\n",
        "    \"qna_pair\",\n",
        "    (\"Youtuberのにゃんたはどのような方ですか？\", \"にゃんたは、AIの実践的な使い方を紹介しています。猫のキャラクターで発信しています。猫は飼っていません\"),\n",
        ")"
      ],
      "metadata": {
        "colab": {
          "base_uri": "https://localhost:8080/"
        },
        "id": "9tp1GDz62asB",
        "outputId": "733e0be5-853d-4dd8-be62-663eaa34ed99"
      },
      "execution_count": null,
      "outputs": [
        {
          "output_type": "stream",
          "name": "stdout",
          "text": [
            "Successfully saved ('Youtuberのにゃんたはどのような方ですか？', 'にゃんたは、AIの実践的な使い方を紹介しています。猫のキャラクターで発信しています。猫は飼っていません'). Total chunks count: 35\n"
          ]
        }
      ]
    },
    {
      "cell_type": "code",
      "source": [
        "chatbot.query(\"にゃんたについて教えてください\")"
      ],
      "metadata": {
        "colab": {
          "base_uri": "https://localhost:8080/",
          "height": 36
        },
        "id": "zAvhoLws2axG",
        "outputId": "6dccecd5-30d2-4b49-87bb-dc33e2a8e4e7"
      },
      "execution_count": null,
      "outputs": [
        {
          "output_type": "execute_result",
          "data": {
            "text/plain": [
              "'にゃんたは、AIの実践的な使い方を紹介しているYoutuberです。彼は猫のキャラクターで発信していますが、実際には猫を飼っていません。'"
            ],
            "application/vnd.google.colaboratory.intrinsic+json": {
              "type": "string"
            }
          },
          "metadata": {},
          "execution_count": 28
        }
      ]
    },
    {
      "cell_type": "code",
      "source": [],
      "metadata": {
        "id": "uhGDabML2a1H"
      },
      "execution_count": null,
      "outputs": []
    },
    {
      "cell_type": "code",
      "source": [],
      "metadata": {
        "id": "rRNmyuE12c-m"
      },
      "execution_count": null,
      "outputs": []
    },
    {
      "cell_type": "code",
      "execution_count": null,
      "metadata": {
        "id": "hvBwKFd2SiI6"
      },
      "outputs": [],
      "source": []
    }
  ],
  "metadata": {
    "colab": {
      "provenance": [],
      "authorship_tag": "ABX9TyPAsSx7PqFAra93X2lKDM10",
      "include_colab_link": true
    },
    "kernelspec": {
      "display_name": "Python 3",
      "name": "python3"
    },
    "language_info": {
      "name": "python"
    }
  },
  "nbformat": 4,
  "nbformat_minor": 0
}